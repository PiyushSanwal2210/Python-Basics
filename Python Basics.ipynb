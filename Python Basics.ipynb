{
 "cells": [
  {
   "cell_type": "markdown",
   "id": "2bb7be9d",
   "metadata": {},
   "source": [
    "#######Python Basics Questions"
   ]
  },
  {
   "cell_type": "markdown",
   "id": "c12e9336",
   "metadata": {},
   "source": [
    "#1>> What is Python, and why is it popular ?\n",
    " \n",
    " #ans~   #Python is a versatile, high-level programming language known for its readability and ease of use, making it popular for a wide range of applications, including web development,data analysis, machine learning, and automation. Its simplicity, extensive library support, and large community contribute to its widespread adoption. \n",
    "\n",
    "#python is so populer because-\n",
    "#1 Readbility and simplicity\n",
    "#2 versatility\n",
    "#3 extensive libraries\n",
    "#4 large community and support\n",
    "#5 open source and free\n",
    "#6 easy to learn\n",
    "#7 used by top componies\n",
    "#8 widely use by tech gients"
   ]
  },
  {
   "cell_type": "markdown",
   "id": "a1a9b474",
   "metadata": {},
   "source": [
    "#2>> What is an interpreter in Python ?\n",
    "\n",
    "#ans~   In Python, an interpreter is a program that reads and executes Python code line by line. Unlike compilers, which translate the entire code into machine code beforehand, interpreters execute the code directly as it's being read. This allows for immediate feedback and debugging. "
   ]
  },
  {
   "cell_type": "markdown",
   "id": "ccde5997",
   "metadata": {},
   "source": [
    "#3>> What are pre-defined keywords in Python ?\n",
    "\n",
    "#ans~ Keywords are reserved words in Python that have specific, pre-defined meanings and cannot be used as identifiers like variable names, function names, or class names. They form the fundamental syntax and structure of the language. There are 35 keywords in Python. \n",
    "False: Boolean value representing false.\n",
    "None: Represents the absence of a value.\n",
    "True: Boolean value representing true.\n",
    "and: Logical AND operator.\n",
    "as: Used for aliasing when importing modules or handling exceptions.\n",
    "assert: Used for debugging purposes to test a condition.\n",
    "async: Used for asynchronous programming.\n",
    "await: Used to wait for a coroutine to complete.\n",
    "break: Terminates the nearest enclosing loop.\n",
    "class: Defines a class.\n",
    "continue: Skips the rest of the current iteration in a loop.\n",
    "def: Defines a function.\n",
    "del: Deletes an object or an element from a collection.\n",
    "elif: Else-if conditional statement.\n",
    "else: Else conditional statement.\n",
    "except: Handles exceptions in a try-except block.\n",
    "finally: Block of code that is always executed after try and except blocks.\n",
    "for: Loop construct for iterating over a sequence.\n",
    "from: Used for importing specific attributes from a module.\n",
    "global: Declares a global variable.\n",
    "if: If conditional statement.\n",
    "import: Imports a module.\n",
    "in: Checks if a value is present in a sequence.\n",
    "is: Tests object identity.\n",
    "lambda: Creates an anonymous function.\n",
    "nonlocal: Declares a non-local variable.\n",
    "not: Logical NOT operator.\n",
    "or: Logical OR operator.\n",
    "pass: Null operation; does nothing.\n",
    "raise: Raises an exception.\n",
    "return: Returns a value from a function.\n",
    "try: Encloses code that might raise an exception.\n",
    "while: Loop construct that executes as long as a condition is true.\n",
    "with: Used for context management.\n",
    "yield: Returns a generator."
   ]
  },
  {
   "cell_type": "markdown",
   "id": "743c0355",
   "metadata": {},
   "source": [
    "#4>> Can keywords be used as variable names ?\n",
    "\n",
    "#ans~  No, keywords cannot be used as variable names in most programming languages. Keywords are reserved words with specific meanings that the compiler or interpreter uses to understand the syntax of the code. Using a keyword as a variable name would create ambiguity and cause errors. "
   ]
  },
  {
   "cell_type": "markdown",
   "id": "fdf9211b",
   "metadata": {},
   "source": [
    "#5>> What is mutability in Python ?\n",
    "\n",
    "#ans~  Mutability in Python refers to the ability of an object to be modified after it is created. If an object's state or value can be changed after its creation, it is considered mutable. Conversely, if an object's state cannot be changed after it's created, it is considered immutable. "
   ]
  },
  {
   "cell_type": "code",
   "execution_count": 9,
   "id": "1029e27f",
   "metadata": {},
   "outputs": [],
   "source": [
    "list_cont= [1,5,\"Ajay\",2.3, \"Vijay\"]\n",
    "#change ajay with piyush\n",
    "list_cont[2] = \"Piyush\"\n"
   ]
  },
  {
   "cell_type": "code",
   "execution_count": 10,
   "id": "15ac5fd0",
   "metadata": {},
   "outputs": [
    {
     "data": {
      "text/plain": [
       "[1, 5, 'Piyush', 2.3, 'Vijay']"
      ]
     },
     "execution_count": 10,
     "metadata": {},
     "output_type": "execute_result"
    }
   ],
   "source": [
    "list_cont"
   ]
  },
  {
   "cell_type": "markdown",
   "id": "8e8247fe",
   "metadata": {},
   "source": [
    "#6>> Why are lists mutable, but tuples are immutable Why are lists mutable, but tuples are immutable ?\n",
    "\n",
    "#ans~   Tuples and lists are the same in every way except two: tuples use parentheses instead of square brackets, and the items in tuples cannot be modified (but the items in lists can be modified). We often call lists mutable (meaning they can be changed) and tuples immutable"
   ]
  },
  {
   "cell_type": "markdown",
   "id": "481474d0",
   "metadata": {},
   "source": [
    "#7>> What is the difference between “==” and “is” operators in Python ?\n",
    "\n",
    "#ans~  \"==\" (Equality Operator):\n",
    "This operator compares the values of two objects. It returns True if the values are equal, and False otherwise. It does not consider whether the objects are the same instance in memory.\n",
    "\"is\" (Identity Operator):\n",
    "This operator compares the identity of two objects. It returns True if the objects are the exact same instance in memory, and False otherwise. Even if two objects have the same value, \"is\" will return False if they are stored in different memory"
   ]
  },
  {
   "cell_type": "markdown",
   "id": "ecd9aebe",
   "metadata": {},
   "source": [
    "#8>> What are logical operators in Python ?\n",
    "\n",
    "#ans~   Logical operators in Python are used to combine or modify boolean expressions (True or False). There are three main logical operators: and, or, and not. \n",
    "and: Returns True if both operands are True, otherwise returns False.\n",
    "or: Returns True if at least one of the operands is True, otherwise returns False. \n",
    "not: Returns the opposite boolean value of the operand. If the operand is True, it returns False, and if the operand is False, it returns True"
   ]
  },
  {
   "cell_type": "markdown",
   "id": "42946390",
   "metadata": {},
   "source": [
    "#9>> What is type casting in Python ?\n",
    "\n",
    "#ans~   Type casting in Python, also known as type conversion, is the process of changing a variable's data type. This is useful when you need to perform operations that require specific data types or when you want to represent data in a different format. "
   ]
  },
  {
   "cell_type": "markdown",
   "id": "7ad420f7",
   "metadata": {},
   "source": [
    "#10>> What is the difference between implicit and explicit type casting ?\n",
    "\n",
    "#ans~   Implicit Type Casting (Widening): \n",
    "Definition: Automatic conversion of a smaller data type to a larger one. \n",
    "Example: Converting an integer (e.g., int) to a floating-point number (e.g., float). \n",
    "Purpose: Ensures compatibility when a smaller data type is assigned to a larger one or when different data types are combined in an expression. \n",
    "Safety: Generally safe as it doesn't lead to loss of data. \n",
    "Explicit Type Casting (Narrowing):\n",
    "Definition: Manual conversion of a larger data type to a smaller one.\n",
    "Example: Converting a floating-point number to an integer.\n",
    "Purpose: Provides control over the conversion process and can be used to prevent potential data loss or unexpected behavior.\n",
    "Syntax: Typically requires a cast operator (e.g., (int)value).\n",
    "Safety: Can lead to data loss or precision issues, especially when converting from a larger floating-point type to an integer. \n"
   ]
  },
  {
   "cell_type": "markdown",
   "id": "f74a804b",
   "metadata": {},
   "source": [
    "#11>> What is the purpose of conditional statements in Python ?\n",
    "\n",
    "#ans~    Conditional statements in Python serve to control the flow of execution within a program, allowing different code blocks to be executed based on whether specific conditions are met. They enable programs to make decisions and respond dynamically to varying inputs or situations. The primary conditional statements in Python are if, elif (else if), and else.\n",
    "if statement:\n",
    "This statement evaluates a condition. If the condition is true, the code block indented under the if statement is executed.\n",
    "elif statement:\n",
    "This statement allows for multiple conditions to be checked in sequence. If the preceding if condition is false, the elif condition is evaluated. If it is true, its corresponding code block is executed.\n",
    "else statement:\n",
    "This statement provides a default code block to be executed if none of the preceding if or elif conditions are true.\n",
    "Conditional statements are crucial for creating flexible and adaptable programs."
   ]
  },
  {
   "cell_type": "markdown",
   "id": "ac89efa9",
   "metadata": {},
   "source": [
    "#12>>> How does the elif statement work ?\n",
    "\n",
    "#ans~    The “elif” keyword in Python, stands for “else if”. It can be used in conditional statements to check for multiple conditions. For example, if the first condition is false, it moves on to the next “elif” statement to check if that condition is true."
   ]
  },
  {
   "cell_type": "markdown",
   "id": "743a687c",
   "metadata": {},
   "source": [
    "#13>>> 8 What is the difference between for and while loops ?\n",
    "\n",
    "#ans~   For Loop:\n",
    "Known number of iterations: For loops are used when you know exactly how many times the loop will run. \n",
    "Iteration through collections: For loops are often used to iterate over elements in a list, array, or other collections. \n",
    "Example: for i in range(5): print(i) will print the numbers 0, 1, 2, 3, and 4. \n",
    "While Loop:\n",
    "Dynamic condition:\n",
    "While loops are used when the loop continues running as long as a specific condition is true. \n",
    "Unknown number of iterations:\n",
    "The number of times the loop will run is not fixed in advance, but depends on the condition. \n",
    "Example:\n",
    "while True: will run infinitely unless a break statement or condition is met to exit the loop. "
   ]
  },
  {
   "cell_type": "markdown",
   "id": "427b65c0",
   "metadata": {},
   "source": [
    "#14>>>  Describe a scenario where a while loop is more suitable than a for loop?\n",
    "\n",
    "In programming, for loops are best used when you know the number of iterations ahead of time, whereas a while loop is best used when you don't know the number of iterations in advance. Both methods can help you iterate through your code.\n",
    "a coad where while loop is more suitable ~\n",
    "Make a square using *"
   ]
  },
  {
   "cell_type": "code",
   "execution_count": 15,
   "id": "89cebb47",
   "metadata": {},
   "outputs": [
    {
     "name": "stdout",
     "output_type": "stream",
     "text": [
      "****\n",
      "****\n",
      "****\n",
      "****\n"
     ]
    }
   ],
   "source": [
    "side = 1\n",
    "while side<=4:\n",
    "    width = 1\n",
    "    while width<=4:\n",
    "        print(\"*\", end=\"\")\n",
    "        width+=1\n",
    "    print()\n",
    "    side+=1    "
   ]
  },
  {
   "cell_type": "markdown",
   "id": "7f0ae1e2",
   "metadata": {},
   "source": [
    "###########Practical Questions =="
   ]
  },
  {
   "cell_type": "markdown",
   "id": "ab0bfc84",
   "metadata": {},
   "source": [
    "question = 1>>> Write a Python program to print \"Hello, World!\""
   ]
  },
  {
   "cell_type": "code",
   "execution_count": 1,
   "id": "f8cf9bb6",
   "metadata": {},
   "outputs": [
    {
     "name": "stdout",
     "output_type": "stream",
     "text": [
      "Hello, World!\n"
     ]
    }
   ],
   "source": [
    "print(\"Hello, World!\")"
   ]
  },
  {
   "cell_type": "markdown",
   "id": "0428d98c",
   "metadata": {},
   "source": [
    "Question =2 >>>Write a Python program that displays your name and age?"
   ]
  },
  {
   "cell_type": "code",
   "execution_count": 1,
   "id": "ee11cd9e",
   "metadata": {},
   "outputs": [
    {
     "name": "stdout",
     "output_type": "stream",
     "text": [
      "welcome, piyush sanwal\n",
      "you are 23 years old\n"
     ]
    }
   ],
   "source": [
    "name= input(\"please enter your name: \")\n",
    "age= input(\"please enter your age: \")\n",
    "print (f\"welcome, {name}\")\n",
    "print (f\"you are {age} years old\")"
   ]
  },
  {
   "cell_type": "markdown",
   "id": "f90e1dac",
   "metadata": {},
   "source": [
    "Question =3 >>> Write code to print all the pre-defined keywords in Python using the keyword library?"
   ]
  },
  {
   "cell_type": "code",
   "execution_count": 15,
   "id": "a12e8e89",
   "metadata": {},
   "outputs": [
    {
     "name": "stdout",
     "output_type": "stream",
     "text": [
      "\n",
      "Here is a list of the Python keywords.  Enter any keyword to get more help.\n",
      "\n",
      "False               class               from                or\n",
      "None                continue            global              pass\n",
      "True                def                 if                  raise\n",
      "and                 del                 import              return\n",
      "as                  elif                in                  try\n",
      "assert              else                is                  while\n",
      "async               except              lambda              with\n",
      "await               finally             nonlocal            yield\n",
      "break               for                 not                 \n",
      "\n"
     ]
    }
   ],
   "source": [
    "help(\"keywords\")"
   ]
  },
  {
   "cell_type": "markdown",
   "id": "499d72cf",
   "metadata": {},
   "source": [
    "Question=4>>> Write a program that checks if a given word is a Python keyword?"
   ]
  },
  {
   "cell_type": "code",
   "execution_count": 12,
   "id": "2d85dde6",
   "metadata": {},
   "outputs": [
    {
     "name": "stdout",
     "output_type": "stream",
     "text": [
      "your entered word is keyword in python\n"
     ]
    }
   ],
   "source": [
    "import keyword\n",
    "s= input(\"please enter the word\")\n",
    "if keyword.iskeyword(s):\n",
    "    print(\"your entered word is keyword in python\")\n",
    "else:\n",
    "    print(\"your enter word is not a keyword in python\")"
   ]
  },
  {
   "cell_type": "markdown",
   "id": "a9705fb7",
   "metadata": {},
   "source": [
    "Question=5>>>Create a list and tuple in Python, and demonstrate how attempting to change an element works differently for each?"
   ]
  },
  {
   "cell_type": "code",
   "execution_count": 13,
   "id": "02b7bb03",
   "metadata": {},
   "outputs": [
    {
     "name": "stdout",
     "output_type": "stream",
     "text": [
      "original list: [1, 2, 3]\n"
     ]
    }
   ],
   "source": [
    "#creating a list\n",
    "my_list=[1,2,3,]\n",
    "print(\"original list:\" , my_list)\n"
   ]
  },
  {
   "cell_type": "code",
   "execution_count": 15,
   "id": "f4849b19",
   "metadata": {},
   "outputs": [],
   "source": [
    "#modifying an elememt=\n",
    "my_list[1] = 7"
   ]
  },
  {
   "cell_type": "code",
   "execution_count": 16,
   "id": "0ea86249",
   "metadata": {},
   "outputs": [
    {
     "data": {
      "text/plain": [
       "[1, 7, 3]"
      ]
     },
     "execution_count": 16,
     "metadata": {},
     "output_type": "execute_result"
    }
   ],
   "source": [
    "my_list"
   ]
  },
  {
   "cell_type": "code",
   "execution_count": 17,
   "id": "e5d26efc",
   "metadata": {},
   "outputs": [
    {
     "name": "stdout",
     "output_type": "stream",
     "text": [
      "original tuple: (5, 6, 7)\n"
     ]
    }
   ],
   "source": [
    "#creating a tuple=\n",
    "my_tuple = (5,6,7)\n",
    "print(\"original tuple:\", my_tuple)"
   ]
  },
  {
   "cell_type": "code",
   "execution_count": 18,
   "id": "d45f4eba",
   "metadata": {},
   "outputs": [
    {
     "ename": "TypeError",
     "evalue": "'tuple' object does not support item assignment",
     "output_type": "error",
     "traceback": [
      "\u001b[31m---------------------------------------------------------------------------\u001b[39m",
      "\u001b[31mTypeError\u001b[39m                                 Traceback (most recent call last)",
      "\u001b[36mCell\u001b[39m\u001b[36m \u001b[39m\u001b[32mIn[18]\u001b[39m\u001b[32m, line 2\u001b[39m\n\u001b[32m      1\u001b[39m \u001b[38;5;66;03m#modify an element from a tuple= it will raise an error\u001b[39;00m\n\u001b[32m----> \u001b[39m\u001b[32m2\u001b[39m \u001b[43mmy_tuple\u001b[49m\u001b[43m[\u001b[49m\u001b[32;43m1\u001b[39;49m\u001b[43m]\u001b[49m= \u001b[32m9\u001b[39m\n",
      "\u001b[31mTypeError\u001b[39m: 'tuple' object does not support item assignment"
     ]
    }
   ],
   "source": [
    "#modify an element from a tuple= it will raise an error\n",
    "my_tuple[1]= 9"
   ]
  },
  {
   "cell_type": "markdown",
   "id": "08816680",
   "metadata": {},
   "source": [
    "Question=6>>> Write a function to demonstrate the behavior of mutable and immutable arguments?"
   ]
  },
  {
   "cell_type": "code",
   "execution_count": 3,
   "id": "b1d2511a",
   "metadata": {},
   "outputs": [],
   "source": [
    "#mutable object\n",
    "list_cont= [1,2,3,\"Piyush\",2.5]"
   ]
  },
  {
   "cell_type": "code",
   "execution_count": 4,
   "id": "43d5759f",
   "metadata": {},
   "outputs": [
    {
     "data": {
      "text/plain": [
       "2"
      ]
     },
     "execution_count": 4,
     "metadata": {},
     "output_type": "execute_result"
    }
   ],
   "source": [
    "list_cont[1]"
   ]
  },
  {
   "cell_type": "code",
   "execution_count": 5,
   "id": "65f30430",
   "metadata": {},
   "outputs": [],
   "source": [
    "list_cont[1]= \"Pawan\""
   ]
  },
  {
   "cell_type": "code",
   "execution_count": 6,
   "id": "353ce671",
   "metadata": {},
   "outputs": [
    {
     "data": {
      "text/plain": [
       "[1, 'Pawan', 3, 'Piyush', 2.5]"
      ]
     },
     "execution_count": 6,
     "metadata": {},
     "output_type": "execute_result"
    }
   ],
   "source": [
    "list_cont"
   ]
  },
  {
   "cell_type": "code",
   "execution_count": 8,
   "id": "5d88d1aa",
   "metadata": {},
   "outputs": [],
   "source": [
    "#immutable object\n",
    "a=\"piyushsanwal\""
   ]
  },
  {
   "cell_type": "code",
   "execution_count": 9,
   "id": "291a8ae6",
   "metadata": {},
   "outputs": [
    {
     "data": {
      "text/plain": [
       "'y'"
      ]
     },
     "execution_count": 9,
     "metadata": {},
     "output_type": "execute_result"
    }
   ],
   "source": [
    "a[2]"
   ]
  },
  {
   "cell_type": "code",
   "execution_count": 11,
   "id": "29c7fccc",
   "metadata": {},
   "outputs": [
    {
     "ename": "TypeError",
     "evalue": "'str' object does not support item assignment",
     "output_type": "error",
     "traceback": [
      "\u001b[31m---------------------------------------------------------------------------\u001b[39m",
      "\u001b[31mTypeError\u001b[39m                                 Traceback (most recent call last)",
      "\u001b[36mCell\u001b[39m\u001b[36m \u001b[39m\u001b[32mIn[11]\u001b[39m\u001b[32m, line 1\u001b[39m\n\u001b[32m----> \u001b[39m\u001b[32m1\u001b[39m \u001b[43ma\u001b[49m\u001b[43m[\u001b[49m\u001b[32;43m2\u001b[39;49m\u001b[43m]\u001b[49m= \u001b[33m\"\u001b[39m\u001b[33mi\u001b[39m\u001b[33m\"\u001b[39m\n",
      "\u001b[31mTypeError\u001b[39m: 'str' object does not support item assignment"
     ]
    }
   ],
   "source": [
    "a[2]= \"i\""
   ]
  },
  {
   "cell_type": "markdown",
   "id": "d86b51a7",
   "metadata": {},
   "source": [
    "\n",
    "\n",
    "TypeError: 'str' object does not support item assignment"
   ]
  },
  {
   "cell_type": "markdown",
   "id": "1a6d6931",
   "metadata": {},
   "source": [
    "Question=7>>> Write a program that performs basic arithmetic operations on two user-input numbers?"
   ]
  },
  {
   "cell_type": "code",
   "execution_count": 20,
   "id": "b86308aa",
   "metadata": {},
   "outputs": [
    {
     "name": "stdout",
     "output_type": "stream",
     "text": [
      "addition: 9.0\n",
      "subtraction: 1.0\n",
      "multiplication: 20.0\n",
      "division: 1.25\n"
     ]
    }
   ],
   "source": [
    "def basic_arithmetic(num1,num2):\n",
    "    print(f\"addition: {num1+num2}\")\n",
    "    print(f\"subtraction: {num1-num2}\")\n",
    "    print(f\"multiplication: {num1*num2}\")\n",
    "    if num2!=0:\n",
    "        print(f\"division: {num1/num2}\")\n",
    "    else:\n",
    "        print(\"cannot devide by zero\")\n",
    "\n",
    "try:\n",
    "    num1= float(input(\"enter the first number:\"))\n",
    "    num2= float(input(\"enter the second number:\"))\n",
    "    basic_arithmetic(num1,num2)\n",
    "except ValueError:\n",
    "    print(\"invalid input. please enter numbers.\")"
   ]
  },
  {
   "cell_type": "markdown",
   "id": "fbb45094",
   "metadata": {},
   "source": [
    "Question=8>>>  Write a program to demonstrate the use of logical operators?"
   ]
  },
  {
   "cell_type": "code",
   "execution_count": 3,
   "id": "67953201",
   "metadata": {},
   "outputs": [
    {
     "name": "stdout",
     "output_type": "stream",
     "text": [
      "a and b: False\n",
      "a and b: True\n"
     ]
    }
   ],
   "source": [
    "a= True\n",
    "b= False\n",
    "#Logical AND>>>\n",
    "print(\"a and b:\", a and b)\n",
    "print(\"a and b:\", a and a)"
   ]
  },
  {
   "cell_type": "code",
   "execution_count": 4,
   "id": "2587ac51",
   "metadata": {},
   "outputs": [
    {
     "name": "stdout",
     "output_type": "stream",
     "text": [
      "a or b: True\n",
      "a or b: False\n"
     ]
    }
   ],
   "source": [
    "#logical OR>>>\n",
    "print(\"a or b:\", a or b)\n",
    "print (\"a or b:\", b or b)"
   ]
  },
  {
   "cell_type": "code",
   "execution_count": 5,
   "id": "61dbfb60",
   "metadata": {},
   "outputs": [
    {
     "name": "stdout",
     "output_type": "stream",
     "text": [
      "not a: False\n",
      "not b: True\n"
     ]
    }
   ],
   "source": [
    "#logical NOT>>>\n",
    "print(\"not a:\", not a)\n",
    "print(\"not b:\", not b)"
   ]
  },
  {
   "cell_type": "markdown",
   "id": "1b8e2208",
   "metadata": {},
   "source": [
    "Question =9>>>  Write a Python program to convert user input from string to integer, float, and boolean types?"
   ]
  },
  {
   "cell_type": "code",
   "execution_count": 10,
   "id": "c3037b4e",
   "metadata": {},
   "outputs": [],
   "source": [
    "def convert_stringg_to_type(input_string, data_type):\n",
    "    try:\n",
    "        if data_type == \"int\":\n",
    "            return int(input_string)\n",
    "        elif data_type == \"float\":\n",
    "            return float(input_string)\n",
    "        elif data_type == \"bool\":\n",
    "            if input_string.lower() == \"true\":\n",
    "                return True\n",
    "            elif input_string.lower() == \"false\":\n",
    "                return False\n",
    "            else:\n",
    "                raise ValueError(\"Invalid boolean value\")\n",
    "        else:\n",
    "            raise ValueError(\"Invalid data type\")\n",
    "    except ValueError as e:\n",
    "        return str(e)\n",
    "    input_string = input(\"Enter a value:\")\n",
    "    data_type = input(\"Enter a data type to convert to (int, float, bool): \")\n",
    "\n",
    "    result = convert_string_to_type(input_string, data_type)\n",
    "    print(\"converted value:\" , result)\n"
   ]
  },
  {
   "cell_type": "markdown",
   "id": "cfffd61c",
   "metadata": {},
   "source": [
    "Question=10>>>  Write code to demonstrate type casting with list elements?"
   ]
  },
  {
   "cell_type": "code",
   "execution_count": 14,
   "id": "76f68aa9",
   "metadata": {},
   "outputs": [],
   "source": [
    "mixed_list =('1', 2, 3.4, '4',5)"
   ]
  },
  {
   "cell_type": "code",
   "execution_count": 15,
   "id": "4dac6a59",
   "metadata": {},
   "outputs": [
    {
     "name": "stdout",
     "output_type": "stream",
     "text": [
      "list of integers: [1, 2, 3, 4, 5]\n"
     ]
    }
   ],
   "source": [
    "#type casting for integers>>>\n",
    "int_list = [int(x) for x in mixed_list]\n",
    "print(\"list of integers:\", int_list)"
   ]
  },
  {
   "cell_type": "code",
   "execution_count": 16,
   "id": "f05e561f",
   "metadata": {},
   "outputs": [
    {
     "name": "stdout",
     "output_type": "stream",
     "text": [
      "list of floats: [1.0, 2.0, 3.4, 4.0, 5.0]\n"
     ]
    }
   ],
   "source": [
    "#type casting for float>>>\n",
    "float_list = [float (x) for x in mixed_list]\n",
    "print(\"list of floats:\", float_list)"
   ]
  },
  {
   "cell_type": "code",
   "execution_count": 17,
   "id": "99f05f7b",
   "metadata": {},
   "outputs": [
    {
     "name": "stdout",
     "output_type": "stream",
     "text": [
      "list of strings: ['1', '2', '3.4', '4', '5']\n"
     ]
    }
   ],
   "source": [
    "#typecasting to string>>>\n",
    "str_list = [str(x) for x in mixed_list]\n",
    "print(\"list of strings:\", str_list)"
   ]
  },
  {
   "cell_type": "code",
   "execution_count": 21,
   "id": "dad415ec",
   "metadata": {},
   "outputs": [
    {
     "name": "stdout",
     "output_type": "stream",
     "text": [
      "Error: invalid literal for int() with base 10: 'a'\n"
     ]
    }
   ],
   "source": [
    "#Demonstrating potential errors\n",
    "error_list = ['a','2','3']\n",
    "try:\n",
    "    int_error_list = [int(x) for x in error_list]\n",
    "except ValueError as e:\n",
    "    print(f\"Error: {e}\")"
   ]
  },
  {
   "cell_type": "markdown",
   "id": "8459fb10",
   "metadata": {},
   "source": [
    "Question=11 >>>  Write a program that checks if a number is positive, negative, or zero?"
   ]
  },
  {
   "cell_type": "code",
   "execution_count": 2,
   "id": "61550ba1",
   "metadata": {},
   "outputs": [
    {
     "name": "stdout",
     "output_type": "stream",
     "text": [
      "the number is positive.\n",
      "the number is negative.\n",
      "the number is zero.\n"
     ]
    }
   ],
   "source": [
    "def cheak_number(num):\n",
    "    if num > 0:\n",
    "        print(\"the number is positive.\")\n",
    "    elif num < 0:\n",
    "        print(\"the number is negative.\")\n",
    "    else:\n",
    "        print(\"the number is zero.\")\n",
    "\n",
    "cheak_number(3)\n",
    "cheak_number(-5)\n",
    "cheak_number(0)"
   ]
  },
  {
   "cell_type": "markdown",
   "id": "f77861d5",
   "metadata": {},
   "source": [
    "Question=12 >>>  Write a for loop to print numbers from 1 to 10?"
   ]
  },
  {
   "cell_type": "code",
   "execution_count": 5,
   "id": "5a1fc6ae",
   "metadata": {},
   "outputs": [
    {
     "name": "stdout",
     "output_type": "stream",
     "text": [
      "1\n",
      "2\n",
      "3\n",
      "4\n",
      "5\n",
      "6\n",
      "7\n",
      "8\n",
      "9\n",
      "10\n"
     ]
    }
   ],
   "source": [
    "for i in range (1,11):\n",
    "    print(i)"
   ]
  },
  {
   "cell_type": "markdown",
   "id": "95c34d8f",
   "metadata": {},
   "source": [
    "Question= 13>>>  Write a Python program to find the sum of all even numbers between 1 and 50?"
   ]
  },
  {
   "cell_type": "code",
   "execution_count": 7,
   "id": "66aa369f",
   "metadata": {},
   "outputs": [
    {
     "name": "stdout",
     "output_type": "stream",
     "text": [
      "the sum of even numbers between 1 & 50 is: 600\n"
     ]
    }
   ],
   "source": [
    "sum_of_evens =0\n",
    "for numbers in range(2,50,2):\n",
    "    sum_of_evens += numbers\n",
    "print(f\"the sum of even numbers between 1 & 50 is: {sum_of_evens}\")"
   ]
  },
  {
   "cell_type": "markdown",
   "id": "65151f9b",
   "metadata": {},
   "source": [
    "Question=14 >>>  Write a program to reverse a string using a while loop?"
   ]
  },
  {
   "cell_type": "code",
   "execution_count": 8,
   "id": "78ba1c1a",
   "metadata": {},
   "outputs": [
    {
     "name": "stdout",
     "output_type": "stream",
     "text": [
      "Original string: Hello, World!\n",
      "Reversed string: !dlroW ,olleH\n"
     ]
    }
   ],
   "source": [
    "def reverse_string(s):\n",
    "    reversed_s = \"\"\n",
    "    length = len(s) - 1\n",
    "    while length >= 0:\n",
    "        reversed_s += s[length]\n",
    "        length -= 1\n",
    "    return reversed_s\n",
    "\n",
    "input_string = \"Hello, World!\"\n",
    "reversed_string = reverse_string(input_string)\n",
    "print(f\"Original string: {input_string}\")\n",
    "print(f\"Reversed string: {reversed_string}\")"
   ]
  },
  {
   "cell_type": "markdown",
   "id": "d26398b2",
   "metadata": {},
   "source": [
    "Question =15 >>> Write a Python program to calculate the factorial of a number provided by the user using a while loop?"
   ]
  },
  {
   "cell_type": "code",
   "execution_count": 10,
   "id": "3e455c9c",
   "metadata": {},
   "outputs": [
    {
     "name": "stdout",
     "output_type": "stream",
     "text": [
      "The factorial is 120\n"
     ]
    }
   ],
   "source": [
    "number = int(input(\"Enter a non-negative integer: \"))\n",
    "factorial = 1\n",
    "\n",
    "if number < 0:\n",
    "    print(\"Factorial is not defined for negative numbers.\")\n",
    "elif number == 0:\n",
    "    print(\"The factorial of 0 is 1\")\n",
    "else:\n",
    "    while number > 0:\n",
    "        factorial *= number\n",
    "        number -= 1\n",
    "    print(\"The factorial is\", factorial)"
   ]
  },
  {
   "cell_type": "markdown",
   "id": "beb62111",
   "metadata": {},
   "source": [
    "this is the factorial of 5 === 5 * 4 * 3 * 2 * 1"
   ]
  },
  {
   "cell_type": "code",
   "execution_count": null,
   "id": "107dda33",
   "metadata": {},
   "outputs": [],
   "source": []
  }
 ],
 "metadata": {
  "kernelspec": {
   "display_name": "Python 3",
   "language": "python",
   "name": "python3"
  },
  "language_info": {
   "codemirror_mode": {
    "name": "ipython",
    "version": 3
   },
   "file_extension": ".py",
   "mimetype": "text/x-python",
   "name": "python",
   "nbconvert_exporter": "python",
   "pygments_lexer": "ipython3",
   "version": "3.13.3"
  }
 },
 "nbformat": 4,
 "nbformat_minor": 5
}
